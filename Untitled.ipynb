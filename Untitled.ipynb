{
 "cells": [
  {
   "cell_type": "code",
   "execution_count": 123,
   "id": "3af7a502",
   "metadata": {},
   "outputs": [
    {
     "name": "stdout",
     "output_type": "stream",
     "text": [
      "122 -127\n"
     ]
    }
   ],
   "source": [
    "import numpy as np\n",
    "\n",
    "inputFile = 'SDRTestRecordingsRaw'\n",
    "output_filename = 'iq_data_int8.bin'\n",
    "iq_data = np.fromfile(open(inputFile), dtype=np.float32)\n",
    "\n",
    "int8=((iq_data/np.max(np.abs(iq_data)))*127).astype(np.int8)\n",
    "int8.tofile(output_filename)\n",
    "\n",
    "print(np.max(int8),np.min(int8))"
   ]
  },
  {
   "cell_type": "code",
   "execution_count": 124,
   "id": "2abca70b",
   "metadata": {},
   "outputs": [],
   "source": [
    "iq_data2 = np.fromfile(open(output_filename), dtype=np.int8)\n",
    "float32=iq_data2.astype(np.int16)\n",
    "float32.tofile(output_filename)"
   ]
  },
  {
   "cell_type": "code",
   "execution_count": 114,
   "id": "d7dfffa7",
   "metadata": {},
   "outputs": [
    {
     "name": "stdout",
     "output_type": "stream",
     "text": [
      "[  -68    73    10 ... -1554 -1876 -5417]\n"
     ]
    }
   ],
   "source": [
    "print(iq_data2)"
   ]
  },
  {
   "cell_type": "code",
   "execution_count": 115,
   "id": "f7f7dfdd",
   "metadata": {},
   "outputs": [
    {
     "name": "stdout",
     "output_type": "stream",
     "text": [
      "[  -68    73    10 ... -1554 -1876 -5417]\n"
     ]
    }
   ],
   "source": [
    "print(int8)"
   ]
  }
 ],
 "metadata": {
  "kernelspec": {
   "display_name": "Python 3",
   "language": "python",
   "name": "python3"
  },
  "language_info": {
   "codemirror_mode": {
    "name": "ipython",
    "version": 3
   },
   "file_extension": ".py",
   "mimetype": "text/x-python",
   "name": "python",
   "nbconvert_exporter": "python",
   "pygments_lexer": "ipython3",
   "version": "3.8.8"
  }
 },
 "nbformat": 4,
 "nbformat_minor": 5
}
